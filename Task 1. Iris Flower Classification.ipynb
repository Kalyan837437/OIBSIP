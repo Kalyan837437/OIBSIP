{
 "cells": [
  {
   "cell_type": "markdown",
   "id": "2e537e42",
   "metadata": {},
   "source": [
    "# Importing Required Libraries"
   ]
  },
  {
   "cell_type": "code",
   "execution_count": 7,
   "id": "b67b72d2",
   "metadata": {
    "execution": {
     "iopub.execute_input": "2023-02-25T11:31:07.364652Z",
     "iopub.status.busy": "2023-02-25T11:31:07.364057Z",
     "iopub.status.idle": "2023-02-25T11:31:07.377568Z",
     "shell.execute_reply": "2023-02-25T11:31:07.376243Z"
    },
    "papermill": {
     "duration": 0.02392,
     "end_time": "2023-02-25T11:31:07.380604",
     "exception": false,
     "start_time": "2023-02-25T11:31:07.356684",
     "status": "completed"
    },
    "tags": []
   },
   "outputs": [],
   "source": [
    "import warnings\n",
    "warnings.simplefilter('ignore')\n",
    "\n",
    "import pandas as pd\n",
    "import numpy as np\n",
    "import matplotlib.pyplot as plt"
   ]
  },
  {
   "cell_type": "markdown",
   "id": "451d4156",
   "metadata": {},
   "source": [
    "# Data Importing"
   ]
  },
  {
   "cell_type": "code",
   "execution_count": 8,
   "id": "e2059141",
   "metadata": {
    "execution": {
     "iopub.execute_input": "2023-02-25T11:31:07.414772Z",
     "iopub.status.busy": "2023-02-25T11:31:07.413738Z",
     "iopub.status.idle": "2023-02-25T11:31:07.432145Z",
     "shell.execute_reply": "2023-02-25T11:31:07.430882Z"
    },
    "papermill": {
     "duration": 0.028881,
     "end_time": "2023-02-25T11:31:07.435544",
     "exception": false,
     "start_time": "2023-02-25T11:31:07.406663",
     "status": "completed"
    },
    "tags": []
   },
   "outputs": [],
   "source": [
    "df=pd.read_csv(\".\\Iris.csv\")"
   ]
  },
  {
   "cell_type": "markdown",
   "id": "83836bdd",
   "metadata": {},
   "source": [
    "# Data Exploration"
   ]
  },
  {
   "cell_type": "code",
   "execution_count": 9,
   "id": "953b76ba",
   "metadata": {
    "execution": {
     "iopub.execute_input": "2023-02-25T11:31:07.449860Z",
     "iopub.status.busy": "2023-02-25T11:31:07.448999Z",
     "iopub.status.idle": "2023-02-25T11:31:07.482714Z",
     "shell.execute_reply": "2023-02-25T11:31:07.481291Z"
    },
    "papermill": {
     "duration": 0.045319,
     "end_time": "2023-02-25T11:31:07.486683",
     "exception": false,
     "start_time": "2023-02-25T11:31:07.441364",
     "status": "completed"
    },
    "tags": []
   },
   "outputs": [
    {
     "data": {
      "text/html": [
       "<div>\n",
       "<style scoped>\n",
       "    .dataframe tbody tr th:only-of-type {\n",
       "        vertical-align: middle;\n",
       "    }\n",
       "\n",
       "    .dataframe tbody tr th {\n",
       "        vertical-align: top;\n",
       "    }\n",
       "\n",
       "    .dataframe thead th {\n",
       "        text-align: right;\n",
       "    }\n",
       "</style>\n",
       "<table border=\"1\" class=\"dataframe\">\n",
       "  <thead>\n",
       "    <tr style=\"text-align: right;\">\n",
       "      <th></th>\n",
       "      <th>Id</th>\n",
       "      <th>SepalLengthCm</th>\n",
       "      <th>SepalWidthCm</th>\n",
       "      <th>PetalLengthCm</th>\n",
       "      <th>PetalWidthCm</th>\n",
       "      <th>Species</th>\n",
       "    </tr>\n",
       "  </thead>\n",
       "  <tbody>\n",
       "    <tr>\n",
       "      <th>0</th>\n",
       "      <td>1</td>\n",
       "      <td>5.1</td>\n",
       "      <td>3.5</td>\n",
       "      <td>1.4</td>\n",
       "      <td>0.2</td>\n",
       "      <td>Iris-setosa</td>\n",
       "    </tr>\n",
       "    <tr>\n",
       "      <th>1</th>\n",
       "      <td>2</td>\n",
       "      <td>4.9</td>\n",
       "      <td>3.0</td>\n",
       "      <td>1.4</td>\n",
       "      <td>0.2</td>\n",
       "      <td>Iris-setosa</td>\n",
       "    </tr>\n",
       "    <tr>\n",
       "      <th>2</th>\n",
       "      <td>3</td>\n",
       "      <td>4.7</td>\n",
       "      <td>3.2</td>\n",
       "      <td>1.3</td>\n",
       "      <td>0.2</td>\n",
       "      <td>Iris-setosa</td>\n",
       "    </tr>\n",
       "    <tr>\n",
       "      <th>3</th>\n",
       "      <td>4</td>\n",
       "      <td>4.6</td>\n",
       "      <td>3.1</td>\n",
       "      <td>1.5</td>\n",
       "      <td>0.2</td>\n",
       "      <td>Iris-setosa</td>\n",
       "    </tr>\n",
       "    <tr>\n",
       "      <th>4</th>\n",
       "      <td>5</td>\n",
       "      <td>5.0</td>\n",
       "      <td>3.6</td>\n",
       "      <td>1.4</td>\n",
       "      <td>0.2</td>\n",
       "      <td>Iris-setosa</td>\n",
       "    </tr>\n",
       "  </tbody>\n",
       "</table>\n",
       "</div>"
      ],
      "text/plain": [
       "   Id  SepalLengthCm  SepalWidthCm  PetalLengthCm  PetalWidthCm      Species\n",
       "0   1            5.1           3.5            1.4           0.2  Iris-setosa\n",
       "1   2            4.9           3.0            1.4           0.2  Iris-setosa\n",
       "2   3            4.7           3.2            1.3           0.2  Iris-setosa\n",
       "3   4            4.6           3.1            1.5           0.2  Iris-setosa\n",
       "4   5            5.0           3.6            1.4           0.2  Iris-setosa"
      ]
     },
     "execution_count": 9,
     "metadata": {},
     "output_type": "execute_result"
    }
   ],
   "source": [
    "df.head()"
   ]
  },
  {
   "cell_type": "code",
   "execution_count": 10,
   "id": "775644d3",
   "metadata": {
    "execution": {
     "iopub.execute_input": "2023-02-25T11:31:07.501288Z",
     "iopub.status.busy": "2023-02-25T11:31:07.500482Z",
     "iopub.status.idle": "2023-02-25T11:31:07.508100Z",
     "shell.execute_reply": "2023-02-25T11:31:07.506875Z"
    },
    "papermill": {
     "duration": 0.017912,
     "end_time": "2023-02-25T11:31:07.510572",
     "exception": false,
     "start_time": "2023-02-25T11:31:07.492660",
     "status": "completed"
    },
    "tags": []
   },
   "outputs": [
    {
     "data": {
      "text/plain": [
       "(150, 6)"
      ]
     },
     "execution_count": 10,
     "metadata": {},
     "output_type": "execute_result"
    }
   ],
   "source": [
    "df.shape"
   ]
  },
  {
   "cell_type": "code",
   "execution_count": 11,
   "id": "5654b8b9",
   "metadata": {
    "execution": {
     "iopub.execute_input": "2023-02-25T11:31:07.525397Z",
     "iopub.status.busy": "2023-02-25T11:31:07.524616Z",
     "iopub.status.idle": "2023-02-25T11:31:07.565932Z",
     "shell.execute_reply": "2023-02-25T11:31:07.564668Z"
    },
    "papermill": {
     "duration": 0.051926,
     "end_time": "2023-02-25T11:31:07.568565",
     "exception": false,
     "start_time": "2023-02-25T11:31:07.516639",
     "status": "completed"
    },
    "tags": []
   },
   "outputs": [
    {
     "data": {
      "text/html": [
       "<div>\n",
       "<style scoped>\n",
       "    .dataframe tbody tr th:only-of-type {\n",
       "        vertical-align: middle;\n",
       "    }\n",
       "\n",
       "    .dataframe tbody tr th {\n",
       "        vertical-align: top;\n",
       "    }\n",
       "\n",
       "    .dataframe thead th {\n",
       "        text-align: right;\n",
       "    }\n",
       "</style>\n",
       "<table border=\"1\" class=\"dataframe\">\n",
       "  <thead>\n",
       "    <tr style=\"text-align: right;\">\n",
       "      <th></th>\n",
       "      <th>Id</th>\n",
       "      <th>SepalLengthCm</th>\n",
       "      <th>SepalWidthCm</th>\n",
       "      <th>PetalLengthCm</th>\n",
       "      <th>PetalWidthCm</th>\n",
       "    </tr>\n",
       "  </thead>\n",
       "  <tbody>\n",
       "    <tr>\n",
       "      <th>count</th>\n",
       "      <td>150.000000</td>\n",
       "      <td>150.000000</td>\n",
       "      <td>150.000000</td>\n",
       "      <td>150.000000</td>\n",
       "      <td>150.000000</td>\n",
       "    </tr>\n",
       "    <tr>\n",
       "      <th>mean</th>\n",
       "      <td>75.500000</td>\n",
       "      <td>5.843333</td>\n",
       "      <td>3.054000</td>\n",
       "      <td>3.758667</td>\n",
       "      <td>1.198667</td>\n",
       "    </tr>\n",
       "    <tr>\n",
       "      <th>std</th>\n",
       "      <td>43.445368</td>\n",
       "      <td>0.828066</td>\n",
       "      <td>0.433594</td>\n",
       "      <td>1.764420</td>\n",
       "      <td>0.763161</td>\n",
       "    </tr>\n",
       "    <tr>\n",
       "      <th>min</th>\n",
       "      <td>1.000000</td>\n",
       "      <td>4.300000</td>\n",
       "      <td>2.000000</td>\n",
       "      <td>1.000000</td>\n",
       "      <td>0.100000</td>\n",
       "    </tr>\n",
       "    <tr>\n",
       "      <th>25%</th>\n",
       "      <td>38.250000</td>\n",
       "      <td>5.100000</td>\n",
       "      <td>2.800000</td>\n",
       "      <td>1.600000</td>\n",
       "      <td>0.300000</td>\n",
       "    </tr>\n",
       "    <tr>\n",
       "      <th>50%</th>\n",
       "      <td>75.500000</td>\n",
       "      <td>5.800000</td>\n",
       "      <td>3.000000</td>\n",
       "      <td>4.350000</td>\n",
       "      <td>1.300000</td>\n",
       "    </tr>\n",
       "    <tr>\n",
       "      <th>75%</th>\n",
       "      <td>112.750000</td>\n",
       "      <td>6.400000</td>\n",
       "      <td>3.300000</td>\n",
       "      <td>5.100000</td>\n",
       "      <td>1.800000</td>\n",
       "    </tr>\n",
       "    <tr>\n",
       "      <th>max</th>\n",
       "      <td>150.000000</td>\n",
       "      <td>7.900000</td>\n",
       "      <td>4.400000</td>\n",
       "      <td>6.900000</td>\n",
       "      <td>2.500000</td>\n",
       "    </tr>\n",
       "  </tbody>\n",
       "</table>\n",
       "</div>"
      ],
      "text/plain": [
       "               Id  SepalLengthCm  SepalWidthCm  PetalLengthCm  PetalWidthCm\n",
       "count  150.000000     150.000000    150.000000     150.000000    150.000000\n",
       "mean    75.500000       5.843333      3.054000       3.758667      1.198667\n",
       "std     43.445368       0.828066      0.433594       1.764420      0.763161\n",
       "min      1.000000       4.300000      2.000000       1.000000      0.100000\n",
       "25%     38.250000       5.100000      2.800000       1.600000      0.300000\n",
       "50%     75.500000       5.800000      3.000000       4.350000      1.300000\n",
       "75%    112.750000       6.400000      3.300000       5.100000      1.800000\n",
       "max    150.000000       7.900000      4.400000       6.900000      2.500000"
      ]
     },
     "execution_count": 11,
     "metadata": {},
     "output_type": "execute_result"
    }
   ],
   "source": [
    "df.describe()"
   ]
  },
  {
   "cell_type": "code",
   "execution_count": 13,
   "id": "4423a518",
   "metadata": {
    "execution": {
     "iopub.execute_input": "2023-02-25T11:31:07.583881Z",
     "iopub.status.busy": "2023-02-25T11:31:07.583102Z",
     "iopub.status.idle": "2023-02-25T11:31:07.598019Z",
     "shell.execute_reply": "2023-02-25T11:31:07.596648Z"
    },
    "papermill": {
     "duration": 0.025804,
     "end_time": "2023-02-25T11:31:07.600795",
     "exception": false,
     "start_time": "2023-02-25T11:31:07.574991",
     "status": "completed"
    },
    "tags": []
   },
   "outputs": [
    {
     "name": "stdout",
     "output_type": "stream",
     "text": [
      "<class 'pandas.core.frame.DataFrame'>\n",
      "RangeIndex: 150 entries, 0 to 149\n",
      "Data columns (total 6 columns):\n",
      " #   Column         Non-Null Count  Dtype  \n",
      "---  ------         --------------  -----  \n",
      " 0   Id             150 non-null    int64  \n",
      " 1   SepalLengthCm  150 non-null    float64\n",
      " 2   SepalWidthCm   150 non-null    float64\n",
      " 3   PetalLengthCm  150 non-null    float64\n",
      " 4   PetalWidthCm   150 non-null    float64\n",
      " 5   Species        150 non-null    object \n",
      "dtypes: float64(4), int64(1), object(1)\n",
      "memory usage: 7.2+ KB\n"
     ]
    }
   ],
   "source": [
    "df.info()"
   ]
  },
  {
   "cell_type": "markdown",
   "id": "8a054242",
   "metadata": {},
   "source": [
    "# Checking Null Values"
   ]
  },
  {
   "cell_type": "code",
   "execution_count": 14,
   "id": "27b25ba0",
   "metadata": {
    "execution": {
     "iopub.execute_input": "2023-02-25T11:31:07.616552Z",
     "iopub.status.busy": "2023-02-25T11:31:07.615367Z",
     "iopub.status.idle": "2023-02-25T11:31:07.627112Z",
     "shell.execute_reply": "2023-02-25T11:31:07.626016Z"
    },
    "papermill": {
     "duration": 0.022193,
     "end_time": "2023-02-25T11:31:07.629644",
     "exception": false,
     "start_time": "2023-02-25T11:31:07.607451",
     "status": "completed"
    },
    "tags": []
   },
   "outputs": [
    {
     "data": {
      "text/plain": [
       "Id               0\n",
       "SepalLengthCm    0\n",
       "SepalWidthCm     0\n",
       "PetalLengthCm    0\n",
       "PetalWidthCm     0\n",
       "Species          0\n",
       "dtype: int64"
      ]
     },
     "execution_count": 14,
     "metadata": {},
     "output_type": "execute_result"
    }
   ],
   "source": [
    "df.isnull().sum()"
   ]
  },
  {
   "cell_type": "code",
   "execution_count": 15,
   "id": "1fc15d3c",
   "metadata": {
    "execution": {
     "iopub.execute_input": "2023-02-25T11:31:07.645141Z",
     "iopub.status.busy": "2023-02-25T11:31:07.643951Z",
     "iopub.status.idle": "2023-02-25T11:31:07.652856Z",
     "shell.execute_reply": "2023-02-25T11:31:07.651562Z"
    },
    "papermill": {
     "duration": 0.01947,
     "end_time": "2023-02-25T11:31:07.655540",
     "exception": false,
     "start_time": "2023-02-25T11:31:07.636070",
     "status": "completed"
    },
    "tags": []
   },
   "outputs": [
    {
     "data": {
      "text/plain": [
       "Iris-setosa        50\n",
       "Iris-versicolor    50\n",
       "Iris-virginica     50\n",
       "Name: Species, dtype: int64"
      ]
     },
     "execution_count": 15,
     "metadata": {},
     "output_type": "execute_result"
    }
   ],
   "source": [
    "df['Species'].value_counts()"
   ]
  },
  {
   "cell_type": "markdown",
   "id": "b9d2fbff",
   "metadata": {},
   "source": [
    "# Dependent & Independent Variable Data Assignment"
   ]
  },
  {
   "cell_type": "code",
   "execution_count": 17,
   "id": "70d09da2",
   "metadata": {
    "execution": {
     "iopub.execute_input": "2023-02-25T11:31:07.670995Z",
     "iopub.status.busy": "2023-02-25T11:31:07.670549Z",
     "iopub.status.idle": "2023-02-25T11:31:07.676914Z",
     "shell.execute_reply": "2023-02-25T11:31:07.675622Z"
    },
    "papermill": {
     "duration": 0.017275,
     "end_time": "2023-02-25T11:31:07.679420",
     "exception": false,
     "start_time": "2023-02-25T11:31:07.662145",
     "status": "completed"
    },
    "tags": []
   },
   "outputs": [],
   "source": [
    "X= df.drop(columns=['Species'])\n",
    "y= df['Species']"
   ]
  },
  {
   "cell_type": "code",
   "execution_count": 18,
   "id": "b2e77bef",
   "metadata": {
    "execution": {
     "iopub.execute_input": "2023-02-25T11:31:07.694743Z",
     "iopub.status.busy": "2023-02-25T11:31:07.694243Z",
     "iopub.status.idle": "2023-02-25T11:31:07.713565Z",
     "shell.execute_reply": "2023-02-25T11:31:07.712377Z"
    },
    "papermill": {
     "duration": 0.03036,
     "end_time": "2023-02-25T11:31:07.716429",
     "exception": false,
     "start_time": "2023-02-25T11:31:07.686069",
     "status": "completed"
    },
    "tags": []
   },
   "outputs": [
    {
     "data": {
      "text/html": [
       "<div>\n",
       "<style scoped>\n",
       "    .dataframe tbody tr th:only-of-type {\n",
       "        vertical-align: middle;\n",
       "    }\n",
       "\n",
       "    .dataframe tbody tr th {\n",
       "        vertical-align: top;\n",
       "    }\n",
       "\n",
       "    .dataframe thead th {\n",
       "        text-align: right;\n",
       "    }\n",
       "</style>\n",
       "<table border=\"1\" class=\"dataframe\">\n",
       "  <thead>\n",
       "    <tr style=\"text-align: right;\">\n",
       "      <th></th>\n",
       "      <th>Id</th>\n",
       "      <th>SepalLengthCm</th>\n",
       "      <th>SepalWidthCm</th>\n",
       "      <th>PetalLengthCm</th>\n",
       "      <th>PetalWidthCm</th>\n",
       "    </tr>\n",
       "  </thead>\n",
       "  <tbody>\n",
       "    <tr>\n",
       "      <th>0</th>\n",
       "      <td>1</td>\n",
       "      <td>5.1</td>\n",
       "      <td>3.5</td>\n",
       "      <td>1.4</td>\n",
       "      <td>0.2</td>\n",
       "    </tr>\n",
       "    <tr>\n",
       "      <th>1</th>\n",
       "      <td>2</td>\n",
       "      <td>4.9</td>\n",
       "      <td>3.0</td>\n",
       "      <td>1.4</td>\n",
       "      <td>0.2</td>\n",
       "    </tr>\n",
       "    <tr>\n",
       "      <th>2</th>\n",
       "      <td>3</td>\n",
       "      <td>4.7</td>\n",
       "      <td>3.2</td>\n",
       "      <td>1.3</td>\n",
       "      <td>0.2</td>\n",
       "    </tr>\n",
       "    <tr>\n",
       "      <th>3</th>\n",
       "      <td>4</td>\n",
       "      <td>4.6</td>\n",
       "      <td>3.1</td>\n",
       "      <td>1.5</td>\n",
       "      <td>0.2</td>\n",
       "    </tr>\n",
       "    <tr>\n",
       "      <th>4</th>\n",
       "      <td>5</td>\n",
       "      <td>5.0</td>\n",
       "      <td>3.6</td>\n",
       "      <td>1.4</td>\n",
       "      <td>0.2</td>\n",
       "    </tr>\n",
       "    <tr>\n",
       "      <th>...</th>\n",
       "      <td>...</td>\n",
       "      <td>...</td>\n",
       "      <td>...</td>\n",
       "      <td>...</td>\n",
       "      <td>...</td>\n",
       "    </tr>\n",
       "    <tr>\n",
       "      <th>145</th>\n",
       "      <td>146</td>\n",
       "      <td>6.7</td>\n",
       "      <td>3.0</td>\n",
       "      <td>5.2</td>\n",
       "      <td>2.3</td>\n",
       "    </tr>\n",
       "    <tr>\n",
       "      <th>146</th>\n",
       "      <td>147</td>\n",
       "      <td>6.3</td>\n",
       "      <td>2.5</td>\n",
       "      <td>5.0</td>\n",
       "      <td>1.9</td>\n",
       "    </tr>\n",
       "    <tr>\n",
       "      <th>147</th>\n",
       "      <td>148</td>\n",
       "      <td>6.5</td>\n",
       "      <td>3.0</td>\n",
       "      <td>5.2</td>\n",
       "      <td>2.0</td>\n",
       "    </tr>\n",
       "    <tr>\n",
       "      <th>148</th>\n",
       "      <td>149</td>\n",
       "      <td>6.2</td>\n",
       "      <td>3.4</td>\n",
       "      <td>5.4</td>\n",
       "      <td>2.3</td>\n",
       "    </tr>\n",
       "    <tr>\n",
       "      <th>149</th>\n",
       "      <td>150</td>\n",
       "      <td>5.9</td>\n",
       "      <td>3.0</td>\n",
       "      <td>5.1</td>\n",
       "      <td>1.8</td>\n",
       "    </tr>\n",
       "  </tbody>\n",
       "</table>\n",
       "<p>150 rows × 5 columns</p>\n",
       "</div>"
      ],
      "text/plain": [
       "      Id  SepalLengthCm  SepalWidthCm  PetalLengthCm  PetalWidthCm\n",
       "0      1            5.1           3.5            1.4           0.2\n",
       "1      2            4.9           3.0            1.4           0.2\n",
       "2      3            4.7           3.2            1.3           0.2\n",
       "3      4            4.6           3.1            1.5           0.2\n",
       "4      5            5.0           3.6            1.4           0.2\n",
       "..   ...            ...           ...            ...           ...\n",
       "145  146            6.7           3.0            5.2           2.3\n",
       "146  147            6.3           2.5            5.0           1.9\n",
       "147  148            6.5           3.0            5.2           2.0\n",
       "148  149            6.2           3.4            5.4           2.3\n",
       "149  150            5.9           3.0            5.1           1.8\n",
       "\n",
       "[150 rows x 5 columns]"
      ]
     },
     "execution_count": 18,
     "metadata": {},
     "output_type": "execute_result"
    }
   ],
   "source": [
    "X"
   ]
  },
  {
   "cell_type": "code",
   "execution_count": 19,
   "id": "1fc201ba",
   "metadata": {
    "execution": {
     "iopub.execute_input": "2023-02-25T11:31:07.733496Z",
     "iopub.status.busy": "2023-02-25T11:31:07.732999Z",
     "iopub.status.idle": "2023-02-25T11:31:07.742854Z",
     "shell.execute_reply": "2023-02-25T11:31:07.741694Z"
    },
    "papermill": {
     "duration": 0.021915,
     "end_time": "2023-02-25T11:31:07.745165",
     "exception": false,
     "start_time": "2023-02-25T11:31:07.723250",
     "status": "completed"
    },
    "tags": []
   },
   "outputs": [
    {
     "data": {
      "text/plain": [
       "0         Iris-setosa\n",
       "1         Iris-setosa\n",
       "2         Iris-setosa\n",
       "3         Iris-setosa\n",
       "4         Iris-setosa\n",
       "            ...      \n",
       "145    Iris-virginica\n",
       "146    Iris-virginica\n",
       "147    Iris-virginica\n",
       "148    Iris-virginica\n",
       "149    Iris-virginica\n",
       "Name: Species, Length: 150, dtype: object"
      ]
     },
     "execution_count": 19,
     "metadata": {},
     "output_type": "execute_result"
    }
   ],
   "source": [
    "y"
   ]
  },
  {
   "cell_type": "markdown",
   "id": "c083950f",
   "metadata": {},
   "source": [
    "# Data Splitting"
   ]
  },
  {
   "cell_type": "code",
   "execution_count": 20,
   "id": "c49c40aa",
   "metadata": {
    "execution": {
     "iopub.execute_input": "2023-02-25T11:31:07.761216Z",
     "iopub.status.busy": "2023-02-25T11:31:07.760709Z",
     "iopub.status.idle": "2023-02-25T11:31:08.996056Z",
     "shell.execute_reply": "2023-02-25T11:31:08.994788Z"
    },
    "papermill": {
     "duration": 1.247328,
     "end_time": "2023-02-25T11:31:08.999437",
     "exception": false,
     "start_time": "2023-02-25T11:31:07.752109",
     "status": "completed"
    },
    "tags": []
   },
   "outputs": [],
   "source": [
    "from sklearn.model_selection import train_test_split\n",
    "\n",
    "X_train,X_test,y_train,y_test = train_test_split(X,y,test_size=0.20,random_state=42)"
   ]
  },
  {
   "cell_type": "code",
   "execution_count": 21,
   "id": "80bb883a",
   "metadata": {
    "execution": {
     "iopub.execute_input": "2023-02-25T11:31:09.018925Z",
     "iopub.status.busy": "2023-02-25T11:31:09.017263Z",
     "iopub.status.idle": "2023-02-25T11:31:09.124410Z",
     "shell.execute_reply": "2023-02-25T11:31:09.122965Z"
    },
    "papermill": {
     "duration": 0.119395,
     "end_time": "2023-02-25T11:31:09.127887",
     "exception": false,
     "start_time": "2023-02-25T11:31:09.008492",
     "status": "completed"
    },
    "tags": []
   },
   "outputs": [],
   "source": [
    "from sklearn.linear_model import LogisticRegression"
   ]
  },
  {
   "cell_type": "markdown",
   "id": "80ebc894",
   "metadata": {},
   "source": [
    "# Modelling"
   ]
  },
  {
   "cell_type": "code",
   "execution_count": 22,
   "id": "3cf4d977",
   "metadata": {
    "execution": {
     "iopub.execute_input": "2023-02-25T11:31:09.145486Z",
     "iopub.status.busy": "2023-02-25T11:31:09.144039Z",
     "iopub.status.idle": "2023-02-25T11:31:09.237341Z",
     "shell.execute_reply": "2023-02-25T11:31:09.235998Z"
    },
    "papermill": {
     "duration": 0.105306,
     "end_time": "2023-02-25T11:31:09.240477",
     "exception": false,
     "start_time": "2023-02-25T11:31:09.135171",
     "status": "completed"
    },
    "tags": []
   },
   "outputs": [
    {
     "data": {
      "text/plain": [
       "LogisticRegression()"
      ]
     },
     "execution_count": 22,
     "metadata": {},
     "output_type": "execute_result"
    }
   ],
   "source": [
    "lr = LogisticRegression()\n",
    "\n",
    "lr.fit(X_train,y_train)"
   ]
  },
  {
   "cell_type": "code",
   "execution_count": 23,
   "id": "09adfdd4",
   "metadata": {
    "execution": {
     "iopub.execute_input": "2023-02-25T11:31:09.257141Z",
     "iopub.status.busy": "2023-02-25T11:31:09.256674Z",
     "iopub.status.idle": "2023-02-25T11:31:09.272353Z",
     "shell.execute_reply": "2023-02-25T11:31:09.270968Z"
    },
    "papermill": {
     "duration": 0.027232,
     "end_time": "2023-02-25T11:31:09.275093",
     "exception": false,
     "start_time": "2023-02-25T11:31:09.247861",
     "status": "completed"
    },
    "tags": []
   },
   "outputs": [
    {
     "data": {
      "text/html": [
       "<div>\n",
       "<style scoped>\n",
       "    .dataframe tbody tr th:only-of-type {\n",
       "        vertical-align: middle;\n",
       "    }\n",
       "\n",
       "    .dataframe tbody tr th {\n",
       "        vertical-align: top;\n",
       "    }\n",
       "\n",
       "    .dataframe thead th {\n",
       "        text-align: right;\n",
       "    }\n",
       "</style>\n",
       "<table border=\"1\" class=\"dataframe\">\n",
       "  <thead>\n",
       "    <tr style=\"text-align: right;\">\n",
       "      <th></th>\n",
       "      <th>Actual</th>\n",
       "      <th>Predictions</th>\n",
       "    </tr>\n",
       "  </thead>\n",
       "  <tbody>\n",
       "    <tr>\n",
       "      <th>0</th>\n",
       "      <td>Iris-setosa</td>\n",
       "      <td>Iris-setosa</td>\n",
       "    </tr>\n",
       "    <tr>\n",
       "      <th>1</th>\n",
       "      <td>Iris-setosa</td>\n",
       "      <td>Iris-setosa</td>\n",
       "    </tr>\n",
       "    <tr>\n",
       "      <th>2</th>\n",
       "      <td>Iris-setosa</td>\n",
       "      <td>Iris-setosa</td>\n",
       "    </tr>\n",
       "    <tr>\n",
       "      <th>3</th>\n",
       "      <td>Iris-setosa</td>\n",
       "      <td>Iris-setosa</td>\n",
       "    </tr>\n",
       "    <tr>\n",
       "      <th>4</th>\n",
       "      <td>Iris-setosa</td>\n",
       "      <td>Iris-setosa</td>\n",
       "    </tr>\n",
       "  </tbody>\n",
       "</table>\n",
       "</div>"
      ],
      "text/plain": [
       "        Actual  Predictions\n",
       "0  Iris-setosa  Iris-setosa\n",
       "1  Iris-setosa  Iris-setosa\n",
       "2  Iris-setosa  Iris-setosa\n",
       "3  Iris-setosa  Iris-setosa\n",
       "4  Iris-setosa  Iris-setosa"
      ]
     },
     "execution_count": 23,
     "metadata": {},
     "output_type": "execute_result"
    }
   ],
   "source": [
    "predictions = lr.predict(X)\n",
    "\n",
    "Scores = pd.DataFrame({'Actual':y,'Predictions':predictions})\n",
    "Scores.head()"
   ]
  },
  {
   "cell_type": "code",
   "execution_count": 24,
   "id": "7e4b27ad",
   "metadata": {
    "execution": {
     "iopub.execute_input": "2023-02-25T11:31:09.292493Z",
     "iopub.status.busy": "2023-02-25T11:31:09.291873Z",
     "iopub.status.idle": "2023-02-25T11:31:09.299815Z",
     "shell.execute_reply": "2023-02-25T11:31:09.298493Z"
    },
    "papermill": {
     "duration": 0.019643,
     "end_time": "2023-02-25T11:31:09.302333",
     "exception": false,
     "start_time": "2023-02-25T11:31:09.282690",
     "status": "completed"
    },
    "tags": []
   },
   "outputs": [],
   "source": [
    "y_test_hat=lr.predict(X_test)"
   ]
  },
  {
   "cell_type": "markdown",
   "id": "c6a3cacd",
   "metadata": {},
   "source": [
    "# Model Evaluation"
   ]
  },
  {
   "cell_type": "code",
   "execution_count": 25,
   "id": "e41d6cc3",
   "metadata": {
    "execution": {
     "iopub.execute_input": "2023-02-25T11:31:09.320337Z",
     "iopub.status.busy": "2023-02-25T11:31:09.318980Z",
     "iopub.status.idle": "2023-02-25T11:31:09.327699Z",
     "shell.execute_reply": "2023-02-25T11:31:09.326224Z"
    },
    "papermill": {
     "duration": 0.021188,
     "end_time": "2023-02-25T11:31:09.330769",
     "exception": false,
     "start_time": "2023-02-25T11:31:09.309581",
     "status": "completed"
    },
    "tags": []
   },
   "outputs": [
    {
     "name": "stdout",
     "output_type": "stream",
     "text": [
      "100.0 %\n"
     ]
    }
   ],
   "source": [
    "from sklearn.metrics import accuracy_score\n",
    "print(accuracy_score(y_test,y_test_hat)*100,'%')"
   ]
  },
  {
   "cell_type": "markdown",
   "id": "b6c03ac2",
   "metadata": {
    "papermill": {
     "duration": 0.007052,
     "end_time": "2023-02-25T11:31:09.346677",
     "exception": false,
     "start_time": "2023-02-25T11:31:09.339625",
     "status": "completed"
    },
    "tags": []
   },
   "source": [
    "THANK YOU"
   ]
  }
 ],
 "metadata": {
  "kernelspec": {
   "display_name": "Python 3 (ipykernel)",
   "language": "python",
   "name": "python3"
  },
  "language_info": {
   "codemirror_mode": {
    "name": "ipython",
    "version": 3
   },
   "file_extension": ".py",
   "mimetype": "text/x-python",
   "name": "python",
   "nbconvert_exporter": "python",
   "pygments_lexer": "ipython3",
   "version": "3.10.9"
  },
  "papermill": {
   "default_parameters": {},
   "duration": 14.074662,
   "end_time": "2023-02-25T11:31:10.296771",
   "environment_variables": {},
   "exception": null,
   "input_path": "__notebook__.ipynb",
   "output_path": "__notebook__.ipynb",
   "parameters": {},
   "start_time": "2023-02-25T11:30:56.222109",
   "version": "2.4.0"
  }
 },
 "nbformat": 4,
 "nbformat_minor": 5
}
